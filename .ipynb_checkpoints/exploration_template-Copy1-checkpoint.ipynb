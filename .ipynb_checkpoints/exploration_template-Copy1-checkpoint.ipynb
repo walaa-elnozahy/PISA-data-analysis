{
 "cells": [
  {
   "cell_type": "markdown",
   "metadata": {},
   "source": [
    "# PISA data exploration\n",
    "## by Walaa Elnozahy\n",
    "\n",
    "## Preliminary Wrangling\n",
    "\n",
    "PISA stands for \"The Program for International Student Assessment\" which is an international assessment that measures students who are 15-year-old. it aims to assess their skills such as reading, mathematics, and science literacy every 3 years. This data is gathered from gathered done for students who are about to end their education. they are assessing their level and skills  along with details about them to check how well prepared they are for life beyond school.\n",
    "> data should be containing all the details about students who went throught the survey and their skills and details\n",
    " \n",
    "\n",
    "\n",
    "\n",
    "\n"
   ]
  },
  {
   "cell_type": "code",
   "execution_count": null,
   "metadata": {},
   "outputs": [],
   "source": [
    "# import all packages and set plots to be embedded inline\n",
    "import numpy as np\n",
    "import pandas as pd\n",
    "import matplotlib.pyplot as plt\n",
    "import seaborn as sns\n",
    "\n",
    "%matplotlib inline"
   ]
  },
  {
   "cell_type": "markdown",
   "metadata": {},
   "source": [
    "Here we are going to load the data to check and identify what does it contain\n",
    "> Load in your dataset and describe its properties through the questions below.."
   ]
  },
  {
   "cell_type": "code",
   "execution_count": null,
   "metadata": {},
   "outputs": [],
   "source": [
    "# load in the dataset into a pandas dataframeb\n",
    "pisadef=pd.read_csv('pisadict2012.csv', encoding= 'latin1');"
   ]
  },
  {
   "cell_type": "code",
   "execution_count": null,
   "metadata": {
    "scrolled": true
   },
   "outputs": [],
   "source": [
    "# General details about the data shape and composition\n",
    "print(pisadef.shape)\n",
    "print(pisadef.dtypes)\n",
    "print(pisadef.head(10))"
   ]
  },
  {
   "cell_type": "code",
   "execution_count": null,
   "metadata": {},
   "outputs": [],
   "source": [
    "pisa=pd.read_csv('pisa2012.csv', encoding= 'latin1')"
   ]
  },
  {
   "cell_type": "code",
   "execution_count": null,
   "metadata": {},
   "outputs": [],
   "source": [
    "ps= pisa.head(10)\n",
    "ps.to_csv('ps2012.csv', index = False)"
   ]
  },
  {
   "cell_type": "code",
   "execution_count": null,
   "metadata": {
    "scrolled": false
   },
   "outputs": [],
   "source": [
    "# General details about the data shape and composition\n",
    "print(pisa.shape)\n",
    "print(pisa.dtypes)\n",
    "pisa.head(10)"
   ]
  },
  {
   "cell_type": "code",
   "execution_count": null,
   "metadata": {},
   "outputs": [],
   "source": [
    "# remove the not needed index\n",
    "pisa = pisa.drop(\"Unnamed: 0\",axis=1)"
   ]
  },
  {
   "cell_type": "code",
   "execution_count": null,
   "metadata": {},
   "outputs": [],
   "source": [
    "# preview data\n",
    "print(pisa.head())\n",
    "print(pisa.isnull().sum())\n",
    "print(pisa.describe())\n",
    "# check for dublicates \n",
    "print(sum(pisa.duplicated()))"
   ]
  },
  {
   "cell_type": "markdown",
   "metadata": {},
   "source": [
    "Data sets has huge number of data. which is not totally needed and based on the info at hand we can select set of data that would be most useful to be used \n",
    "create a new dataset with these data only so we can work on it "
   ]
  },
  {
   "cell_type": "code",
   "execution_count": 79,
   "metadata": {},
   "outputs": [],
   "source": [
    "#based on all of this we will work using these fields\n",
    "df = pisa[['STIDSTD',\n",
    "           'LMINS','MMINS','SMINS',\n",
    "           'ST57Q01','ST57Q02','ST57Q03',\n",
    "           'ST57Q04','ST57Q05','ST57Q06','OUTHOURS','QUESTID','GRADE','AGE','ST06Q01','ST03Q01','ST03Q02','ST04Q01','ST01Q01',\n",
    "           'PV1MATH','PV2MATH','PV3MATH','PV4MATH','PV5MATH',\n",
    "           'PV1READ','PV2READ','PV3READ','PV4READ','PV5READ',\n",
    "           'PV1SCIE','PV2SCIE','PV3SCIE','PV4SCIE','PV5SCIE',\n",
    "           #'CNT', 'ST55Q01','ST55Q02','ST55Q03','ST55Q04',\n",
    "           #'SUBNATIO', 'STRATUM','OECD','NC',          \n",
    "           #'ST15Q01','ST19Q01','ST02Q01','ST115Q01',          \n",
    "           #'ST27Q01','ST27Q02','ST27Q03','ST27Q04','ST27Q05','ST28Q01',\n",
    "          'SCHOOLID','ST11Q01','ST11Q02',\n",
    "          'ST08Q01','ST09Q01','ST13Q01','ST17Q01',\n",
    "          'OCOD1','OCOD2']].copy()\n",
    "\n",
    "\n",
    "\n",
    "df.rename(columns={'GRADE':'grade','LMINS':'Learningtime_testlanguage',\n",
    "                   'MMINS':'Learningtime_Mathematics','SMINS':'Learningtime_Science',\n",
    "                   'AGE':'age','ST03Q01':'birth_month','ST03Q02':'birth_year',\n",
    "                   'ST04Q01':'gender','CNT':'countrycode','OUTHOURS':'Out_StudyTime',\n",
    "                   #'SUBNATIO':'subregion',\n",
    "                   #'ST55Q01':'Out_lessons_testlang',\n",
    "                   #'ST55Q02':'Out_lessons_maths',\n",
    "                   #'ST55Q03':'Out_lessons_science',\n",
    "                   #'ST55Q04':'Out_lessons_other',\n",
    "                   #'OECD':'OECD_country','NC':'national_center_code',\n",
    "                   #'ST19Q01':'Father_jobstatus','ST15Q01':'mother_jobstatus',\n",
    "                   #'ST27Q01':'num_mobiles','ST27Q02':'num_tvs','ST27Q03':'num_computers',\n",
    "                   #'ST27Q04':'num_cars','ST27Q05':'num_rooms','ST28Q01':'num_books',\n",
    "                   'ST57Q01':'Out_StudyTime_Homework',\n",
    "                   'ST57Q02':'Out_StudyTime_GuidedHomework',\n",
    "                   'ST57Q03':'Out_StudyTime_PersonalTutor',\n",
    "                   'ST57Q04':'Out_StudyTime_CommercialCompany',\n",
    "                   'ST57Q05':'Out_StudyTime_WithParent',\n",
    "                   'ST57Q06':'Out_StudyTime_Computer',\n",
    "                   'QUESTID':'StudentQuestionnaireForm',\n",
    "                   'SCHOOLID':'school_id','ST01Q01':'international_grade',\n",
    "                   'ST11Q01':'AtHome_Mother', 'ST11Q02':'AtHome_Father',\n",
    "                   'STIDSTD':'student_id','ST02Q01':'study_programme',\n",
    "                   'ST08Q01':'late_for_school','ST09Q01':'skip_day','ST115Q01':'skip_classes',\n",
    "                   'ST13Q01':'mother_highestdegree','ST17Q01':'father_highestdegree',\n",
    "                   'OCOD1':'mother_occupation','OCOD2':'father_occupation'}, inplace=True)"
   ]
  },
  {
   "cell_type": "code",
   "execution_count": 74,
   "metadata": {},
   "outputs": [],
   "source": [
    "#save it in actual document \n",
    "df.to_csv('data.csv',index=False)"
   ]
  },
  {
   "cell_type": "code",
   "execution_count": 75,
   "metadata": {},
   "outputs": [],
   "source": [
    "#df=pd.read_csv('dffile.csv', encoding= 'latin1');"
   ]
  },
  {
   "cell_type": "code",
   "execution_count": 80,
   "metadata": {
    "scrolled": false
   },
   "outputs": [
    {
     "name": "stdout",
     "output_type": "stream",
     "text": [
      "(485490, 43)\n",
      "student_id                           int64\n",
      "Learningtime_testlanguage          float64\n",
      "Learningtime_Mathematics           float64\n",
      "Learningtime_Science               float64\n",
      "Out_StudyTime_Homework             float64\n",
      "Out_StudyTime_GuidedHomework       float64\n",
      "Out_StudyTime_PersonalTutor        float64\n",
      "Out_StudyTime_CommercialCompany    float64\n",
      "Out_StudyTime_WithParent           float64\n",
      "Out_StudyTime_Computer             float64\n",
      "Out_StudyTime                      float64\n",
      "StudentQuestionnaireForm            object\n",
      "grade                              float64\n",
      "age                                float64\n",
      "ST06Q01                            float64\n",
      "birth_month                          int64\n",
      "birth_year                           int64\n",
      "gender                              object\n",
      "international_grade                  int64\n",
      "PV1MATH                            float64\n",
      "PV2MATH                            float64\n",
      "PV3MATH                            float64\n",
      "PV4MATH                            float64\n",
      "PV5MATH                            float64\n",
      "PV1READ                            float64\n",
      "PV2READ                            float64\n",
      "PV3READ                            float64\n",
      "PV4READ                            float64\n",
      "PV5READ                            float64\n",
      "PV1SCIE                            float64\n",
      "PV2SCIE                            float64\n",
      "PV3SCIE                            float64\n",
      "PV4SCIE                            float64\n",
      "PV5SCIE                            float64\n",
      "school_id                            int64\n",
      "AtHome_Mother                       object\n",
      "AtHome_Father                       object\n",
      "late_for_school                     object\n",
      "skip_day                            object\n",
      "mother_highestdegree                object\n",
      "father_highestdegree                object\n",
      "mother_occupation                   object\n",
      "father_occupation                   object\n",
      "dtype: object\n"
     ]
    },
    {
     "data": {
      "text/html": [
       "<div>\n",
       "<style scoped>\n",
       "    .dataframe tbody tr th:only-of-type {\n",
       "        vertical-align: middle;\n",
       "    }\n",
       "\n",
       "    .dataframe tbody tr th {\n",
       "        vertical-align: top;\n",
       "    }\n",
       "\n",
       "    .dataframe thead th {\n",
       "        text-align: right;\n",
       "    }\n",
       "</style>\n",
       "<table border=\"1\" class=\"dataframe\">\n",
       "  <thead>\n",
       "    <tr style=\"text-align: right;\">\n",
       "      <th></th>\n",
       "      <th>student_id</th>\n",
       "      <th>Learningtime_testlanguage</th>\n",
       "      <th>Learningtime_Mathematics</th>\n",
       "      <th>Learningtime_Science</th>\n",
       "      <th>Out_StudyTime_Homework</th>\n",
       "      <th>Out_StudyTime_GuidedHomework</th>\n",
       "      <th>Out_StudyTime_PersonalTutor</th>\n",
       "      <th>Out_StudyTime_CommercialCompany</th>\n",
       "      <th>Out_StudyTime_WithParent</th>\n",
       "      <th>Out_StudyTime_Computer</th>\n",
       "      <th>...</th>\n",
       "      <th>PV5SCIE</th>\n",
       "      <th>school_id</th>\n",
       "      <th>AtHome_Mother</th>\n",
       "      <th>AtHome_Father</th>\n",
       "      <th>late_for_school</th>\n",
       "      <th>skip_day</th>\n",
       "      <th>mother_highestdegree</th>\n",
       "      <th>father_highestdegree</th>\n",
       "      <th>mother_occupation</th>\n",
       "      <th>father_occupation</th>\n",
       "    </tr>\n",
       "  </thead>\n",
       "  <tbody>\n",
       "    <tr>\n",
       "      <th>0</th>\n",
       "      <td>1</td>\n",
       "      <td>NaN</td>\n",
       "      <td>NaN</td>\n",
       "      <td>NaN</td>\n",
       "      <td>NaN</td>\n",
       "      <td>NaN</td>\n",
       "      <td>NaN</td>\n",
       "      <td>NaN</td>\n",
       "      <td>NaN</td>\n",
       "      <td>NaN</td>\n",
       "      <td>...</td>\n",
       "      <td>392.9877</td>\n",
       "      <td>1</td>\n",
       "      <td>Yes</td>\n",
       "      <td>Yes</td>\n",
       "      <td>None</td>\n",
       "      <td>None</td>\n",
       "      <td>&lt;ISCED level 3A&gt;</td>\n",
       "      <td>&lt;ISCED level 3A&gt;</td>\n",
       "      <td>Building architects</td>\n",
       "      <td>Primary school teachers</td>\n",
       "    </tr>\n",
       "    <tr>\n",
       "      <th>1</th>\n",
       "      <td>2</td>\n",
       "      <td>315.0</td>\n",
       "      <td>270.0</td>\n",
       "      <td>90.0</td>\n",
       "      <td>NaN</td>\n",
       "      <td>NaN</td>\n",
       "      <td>6.0</td>\n",
       "      <td>0.0</td>\n",
       "      <td>0.0</td>\n",
       "      <td>2.0</td>\n",
       "      <td>...</td>\n",
       "      <td>454.8116</td>\n",
       "      <td>1</td>\n",
       "      <td>Yes</td>\n",
       "      <td>Yes</td>\n",
       "      <td>One or two times</td>\n",
       "      <td>None</td>\n",
       "      <td>&lt;ISCED level 3A&gt;</td>\n",
       "      <td>&lt;ISCED level 3A&gt;</td>\n",
       "      <td>Tailors, dressmakers, furriers and hatters</td>\n",
       "      <td>Building construction labourers</td>\n",
       "    </tr>\n",
       "    <tr>\n",
       "      <th>2</th>\n",
       "      <td>3</td>\n",
       "      <td>300.0</td>\n",
       "      <td>NaN</td>\n",
       "      <td>NaN</td>\n",
       "      <td>NaN</td>\n",
       "      <td>6.0</td>\n",
       "      <td>6.0</td>\n",
       "      <td>7.0</td>\n",
       "      <td>2.0</td>\n",
       "      <td>3.0</td>\n",
       "      <td>...</td>\n",
       "      <td>499.6643</td>\n",
       "      <td>1</td>\n",
       "      <td>Yes</td>\n",
       "      <td>Yes</td>\n",
       "      <td>None</td>\n",
       "      <td>None</td>\n",
       "      <td>&lt;ISCED level 3B, 3C&gt;</td>\n",
       "      <td>&lt;ISCED level 3A&gt;</td>\n",
       "      <td>Housewife</td>\n",
       "      <td>Bricklayers and related workers</td>\n",
       "    </tr>\n",
       "    <tr>\n",
       "      <th>3</th>\n",
       "      <td>4</td>\n",
       "      <td>135.0</td>\n",
       "      <td>135.0</td>\n",
       "      <td>90.0</td>\n",
       "      <td>10.0</td>\n",
       "      <td>2.0</td>\n",
       "      <td>2.0</td>\n",
       "      <td>0.0</td>\n",
       "      <td>0.0</td>\n",
       "      <td>3.0</td>\n",
       "      <td>...</td>\n",
       "      <td>426.5573</td>\n",
       "      <td>1</td>\n",
       "      <td>Yes</td>\n",
       "      <td>Yes</td>\n",
       "      <td>None</td>\n",
       "      <td>None</td>\n",
       "      <td>&lt;ISCED level 3B, 3C&gt;</td>\n",
       "      <td>&lt;ISCED level 3A&gt;</td>\n",
       "      <td>Housewife</td>\n",
       "      <td>Cleaners and helpers in offices, hotels and ot...</td>\n",
       "    </tr>\n",
       "    <tr>\n",
       "      <th>4</th>\n",
       "      <td>5</td>\n",
       "      <td>NaN</td>\n",
       "      <td>NaN</td>\n",
       "      <td>NaN</td>\n",
       "      <td>NaN</td>\n",
       "      <td>NaN</td>\n",
       "      <td>NaN</td>\n",
       "      <td>NaN</td>\n",
       "      <td>NaN</td>\n",
       "      <td>NaN</td>\n",
       "      <td>...</td>\n",
       "      <td>422.1746</td>\n",
       "      <td>1</td>\n",
       "      <td>Yes</td>\n",
       "      <td>Yes</td>\n",
       "      <td>One or two times</td>\n",
       "      <td>None</td>\n",
       "      <td>She did not complete &lt;ISCED level 1&gt;</td>\n",
       "      <td>&lt;ISCED level 3B, 3C&gt;</td>\n",
       "      <td>Housewife</td>\n",
       "      <td>Economists</td>\n",
       "    </tr>\n",
       "    <tr>\n",
       "      <th>5</th>\n",
       "      <td>6</td>\n",
       "      <td>NaN</td>\n",
       "      <td>NaN</td>\n",
       "      <td>NaN</td>\n",
       "      <td>3.0</td>\n",
       "      <td>2.0</td>\n",
       "      <td>9.0</td>\n",
       "      <td>9.0</td>\n",
       "      <td>1.0</td>\n",
       "      <td>2.0</td>\n",
       "      <td>...</td>\n",
       "      <td>325.5688</td>\n",
       "      <td>1</td>\n",
       "      <td>Yes</td>\n",
       "      <td>Yes</td>\n",
       "      <td>One or two times</td>\n",
       "      <td>None</td>\n",
       "      <td>&lt;ISCED level 3B, 3C&gt;</td>\n",
       "      <td>&lt;ISCED level 2&gt;</td>\n",
       "      <td>Missing</td>\n",
       "      <td>Cooks</td>\n",
       "    </tr>\n",
       "    <tr>\n",
       "      <th>6</th>\n",
       "      <td>7</td>\n",
       "      <td>135.0</td>\n",
       "      <td>225.0</td>\n",
       "      <td>90.0</td>\n",
       "      <td>3.0</td>\n",
       "      <td>3.0</td>\n",
       "      <td>2.0</td>\n",
       "      <td>2.0</td>\n",
       "      <td>0.0</td>\n",
       "      <td>0.0</td>\n",
       "      <td>...</td>\n",
       "      <td>466.1880</td>\n",
       "      <td>1</td>\n",
       "      <td>Yes</td>\n",
       "      <td>Yes</td>\n",
       "      <td>Three or four times</td>\n",
       "      <td>None</td>\n",
       "      <td>&lt;ISCED level 3B, 3C&gt;</td>\n",
       "      <td>&lt;ISCED level 3A&gt;</td>\n",
       "      <td>Housewife</td>\n",
       "      <td>Stall and market salespersons</td>\n",
       "    </tr>\n",
       "    <tr>\n",
       "      <th>7</th>\n",
       "      <td>8</td>\n",
       "      <td>NaN</td>\n",
       "      <td>NaN</td>\n",
       "      <td>NaN</td>\n",
       "      <td>NaN</td>\n",
       "      <td>NaN</td>\n",
       "      <td>NaN</td>\n",
       "      <td>NaN</td>\n",
       "      <td>NaN</td>\n",
       "      <td>NaN</td>\n",
       "      <td>...</td>\n",
       "      <td>519.8993</td>\n",
       "      <td>1</td>\n",
       "      <td>Yes</td>\n",
       "      <td>Yes</td>\n",
       "      <td>None</td>\n",
       "      <td>None</td>\n",
       "      <td>&lt;ISCED level 3A&gt;</td>\n",
       "      <td>&lt;ISCED level 3A&gt;</td>\n",
       "      <td>Housewife</td>\n",
       "      <td>General office clerks</td>\n",
       "    </tr>\n",
       "    <tr>\n",
       "      <th>8</th>\n",
       "      <td>9</td>\n",
       "      <td>NaN</td>\n",
       "      <td>NaN</td>\n",
       "      <td>NaN</td>\n",
       "      <td>NaN</td>\n",
       "      <td>NaN</td>\n",
       "      <td>NaN</td>\n",
       "      <td>NaN</td>\n",
       "      <td>NaN</td>\n",
       "      <td>NaN</td>\n",
       "      <td>...</td>\n",
       "      <td>382.3573</td>\n",
       "      <td>1</td>\n",
       "      <td>NaN</td>\n",
       "      <td>NaN</td>\n",
       "      <td>None</td>\n",
       "      <td>NaN</td>\n",
       "      <td>&lt;ISCED level 3A&gt;</td>\n",
       "      <td>&lt;ISCED level 3A&gt;</td>\n",
       "      <td>Primary school teachers</td>\n",
       "      <td>Bakers, pastry-cooks and confectionery makers</td>\n",
       "    </tr>\n",
       "    <tr>\n",
       "      <th>9</th>\n",
       "      <td>10</td>\n",
       "      <td>240.0</td>\n",
       "      <td>90.0</td>\n",
       "      <td>270.0</td>\n",
       "      <td>NaN</td>\n",
       "      <td>NaN</td>\n",
       "      <td>0.0</td>\n",
       "      <td>9.0</td>\n",
       "      <td>9.0</td>\n",
       "      <td>5.0</td>\n",
       "      <td>...</td>\n",
       "      <td>287.7098</td>\n",
       "      <td>2</td>\n",
       "      <td>Yes</td>\n",
       "      <td>Yes</td>\n",
       "      <td>One or two times</td>\n",
       "      <td>One or two times</td>\n",
       "      <td>&lt;ISCED level 3A&gt;</td>\n",
       "      <td>&lt;ISCED level 3A&gt;</td>\n",
       "      <td>Sales and marketing managers</td>\n",
       "      <td>Civil engineers</td>\n",
       "    </tr>\n",
       "  </tbody>\n",
       "</table>\n",
       "<p>10 rows × 43 columns</p>\n",
       "</div>"
      ],
      "text/plain": [
       "   student_id  Learningtime_testlanguage  Learningtime_Mathematics  \\\n",
       "0           1                        NaN                       NaN   \n",
       "1           2                      315.0                     270.0   \n",
       "2           3                      300.0                       NaN   \n",
       "3           4                      135.0                     135.0   \n",
       "4           5                        NaN                       NaN   \n",
       "5           6                        NaN                       NaN   \n",
       "6           7                      135.0                     225.0   \n",
       "7           8                        NaN                       NaN   \n",
       "8           9                        NaN                       NaN   \n",
       "9          10                      240.0                      90.0   \n",
       "\n",
       "   Learningtime_Science  Out_StudyTime_Homework  Out_StudyTime_GuidedHomework  \\\n",
       "0                   NaN                     NaN                           NaN   \n",
       "1                  90.0                     NaN                           NaN   \n",
       "2                   NaN                     NaN                           6.0   \n",
       "3                  90.0                    10.0                           2.0   \n",
       "4                   NaN                     NaN                           NaN   \n",
       "5                   NaN                     3.0                           2.0   \n",
       "6                  90.0                     3.0                           3.0   \n",
       "7                   NaN                     NaN                           NaN   \n",
       "8                   NaN                     NaN                           NaN   \n",
       "9                 270.0                     NaN                           NaN   \n",
       "\n",
       "   Out_StudyTime_PersonalTutor  Out_StudyTime_CommercialCompany  \\\n",
       "0                          NaN                              NaN   \n",
       "1                          6.0                              0.0   \n",
       "2                          6.0                              7.0   \n",
       "3                          2.0                              0.0   \n",
       "4                          NaN                              NaN   \n",
       "5                          9.0                              9.0   \n",
       "6                          2.0                              2.0   \n",
       "7                          NaN                              NaN   \n",
       "8                          NaN                              NaN   \n",
       "9                          0.0                              9.0   \n",
       "\n",
       "   Out_StudyTime_WithParent  Out_StudyTime_Computer  ...   PV5SCIE school_id  \\\n",
       "0                       NaN                     NaN  ...  392.9877         1   \n",
       "1                       0.0                     2.0  ...  454.8116         1   \n",
       "2                       2.0                     3.0  ...  499.6643         1   \n",
       "3                       0.0                     3.0  ...  426.5573         1   \n",
       "4                       NaN                     NaN  ...  422.1746         1   \n",
       "5                       1.0                     2.0  ...  325.5688         1   \n",
       "6                       0.0                     0.0  ...  466.1880         1   \n",
       "7                       NaN                     NaN  ...  519.8993         1   \n",
       "8                       NaN                     NaN  ...  382.3573         1   \n",
       "9                       9.0                     5.0  ...  287.7098         2   \n",
       "\n",
       "   AtHome_Mother  AtHome_Father        late_for_school            skip_day  \\\n",
       "0            Yes            Yes                 None                None     \n",
       "1            Yes            Yes     One or two times                None     \n",
       "2            Yes            Yes                 None                None     \n",
       "3            Yes            Yes                 None                None     \n",
       "4            Yes            Yes     One or two times                None     \n",
       "5            Yes            Yes     One or two times                None     \n",
       "6            Yes            Yes  Three or four times                None     \n",
       "7            Yes            Yes                 None                None     \n",
       "8            NaN            NaN                 None                   NaN   \n",
       "9            Yes            Yes     One or two times    One or two times     \n",
       "\n",
       "                    mother_highestdegree   father_highestdegree  \\\n",
       "0                      <ISCED level 3A>       <ISCED level 3A>    \n",
       "1                      <ISCED level 3A>       <ISCED level 3A>    \n",
       "2                  <ISCED level 3B, 3C>       <ISCED level 3A>    \n",
       "3                  <ISCED level 3B, 3C>       <ISCED level 3A>    \n",
       "4  She did not complete <ISCED level 1>   <ISCED level 3B, 3C>    \n",
       "5                  <ISCED level 3B, 3C>        <ISCED level 2>    \n",
       "6                  <ISCED level 3B, 3C>       <ISCED level 3A>    \n",
       "7                      <ISCED level 3A>       <ISCED level 3A>    \n",
       "8                      <ISCED level 3A>       <ISCED level 3A>    \n",
       "9                      <ISCED level 3A>       <ISCED level 3A>    \n",
       "\n",
       "                            mother_occupation  \\\n",
       "0                         Building architects   \n",
       "1  Tailors, dressmakers, furriers and hatters   \n",
       "2                                   Housewife   \n",
       "3                                   Housewife   \n",
       "4                                   Housewife   \n",
       "5                                     Missing   \n",
       "6                                   Housewife   \n",
       "7                                   Housewife   \n",
       "8                     Primary school teachers   \n",
       "9                Sales and marketing managers   \n",
       "\n",
       "                                   father_occupation  \n",
       "0                            Primary school teachers  \n",
       "1                    Building construction labourers  \n",
       "2                    Bricklayers and related workers  \n",
       "3  Cleaners and helpers in offices, hotels and ot...  \n",
       "4                                         Economists  \n",
       "5                                              Cooks  \n",
       "6                      Stall and market salespersons  \n",
       "7                              General office clerks  \n",
       "8      Bakers, pastry-cooks and confectionery makers  \n",
       "9                                    Civil engineers  \n",
       "\n",
       "[10 rows x 43 columns]"
      ]
     },
     "execution_count": 80,
     "metadata": {},
     "output_type": "execute_result"
    }
   ],
   "source": [
    "# General details about the data shape and composition\n",
    "print(df.shape)\n",
    "print(df.dtypes)\n",
    "df.head(10)"
   ]
  },
  {
   "cell_type": "code",
   "execution_count": null,
   "metadata": {},
   "outputs": [],
   "source": [
    "# let's review the final dataset to check for duplications\n",
    "print(df.duplicated())"
   ]
  },
  {
   "cell_type": "code",
   "execution_count": null,
   "metadata": {},
   "outputs": [],
   "source": [
    "df['total_outStudy_time'] = df[['Out_StudyTime_Homework', 'Out_StudyTime_GuidedHomework',\n",
    "                                     'Out_StudyTime_PersonalTutor','Out_StudyTime_CommercialCompany',\n",
    "                                     'Out_StudyTime_WithParent','Out_StudyTime_Computer','Out_StudyTime']].sum(axis=1)\n",
    "df.head(10)"
   ]
  },
  {
   "cell_type": "code",
   "execution_count": null,
   "metadata": {
    "scrolled": false
   },
   "outputs": [],
   "source": [
    "#check null values in the final dataset\n",
    "print(df.isnull().sum())"
   ]
  },
  {
   "cell_type": "markdown",
   "metadata": {
    "scrolled": false
   },
   "source": [
    "based on these info we have few null value columns as the data is nearly 500,000 [485,490]\n",
    "so for the small number of nulls such as for age, grades we can either discard the data or set the null values to equal age average per each country/school\n",
    "\n",
    "but we prefer to discard these columns as it's not clear and we have enought data"
   ]
  },
  {
   "cell_type": "code",
   "execution_count": null,
   "metadata": {
    "scrolled": false
   },
   "outputs": [],
   "source": [
    "#we take a copy of this data and start our final cleaning process \n",
    "df_copy=df.copy()\n",
    "df_copy.dropna(subset=['grade','age'], inplace=True)\n",
    "df_copy=df_copy.fillna(df.mean(), inplace=True)\n",
    "print(df_copy.isnull().sum())"
   ]
  },
  {
   "cell_type": "code",
   "execution_count": null,
   "metadata": {},
   "outputs": [],
   "source": [
    "df_copy.describe()"
   ]
  },
  {
   "cell_type": "code",
   "execution_count": null,
   "metadata": {},
   "outputs": [],
   "source": [
    "#print(df_copy.head(10))\n",
    "#print(df_copy.info())\n",
    "#so let's try to drop the null values\n",
    "#df_copy.dropna(subset=['grade','age','At Home - Mother','At Home - Father','study_programme',\n",
    "#                       'late_for_school','skip_day' ,'skip_classes','mother_highestdegree',\n",
    "#                       'mother_jobstatus','father_highestdegree','Father_jobstatus',\n",
    "#                       'num_mobiles','num_tvs','num_computers','num_cars' ,'num_rooms',\n",
    "#                       'num_books' ,'mother_occupation','father_occupation'], inplace=True)"
   ]
  },
  {
   "cell_type": "markdown",
   "metadata": {},
   "source": [
    "for now we are going to keep the fields that include null for the categorical points such as \n",
    "- At Home - Mother        \n",
    "- At Home - Father        \n",
    "- study_programme            \n",
    "- late_for_school          \n",
    "- skip_day                 \n",
    "- skip_classes             \n",
    "- mother_highestdegree    \n",
    "- mother_jobstatus        \n",
    "- father_highestdegree    \n",
    "- Father_jobstatus        \n",
    "- num_mobiles              \n",
    "- num_tvs                  \n",
    "- num_computers           \n",
    "- num_cars                \n",
    "- num_rooms               \n",
    "- num_books               \n",
    "- mother_occupation        \n",
    "- father_occupation  \n",
    "\n",
    "we may drop these fields or just replace it with new category that represent that it has no value so we can measure this "
   ]
  },
  {
   "cell_type": "markdown",
   "metadata": {},
   "source": [
    "### What is the structure of your dataset?\n",
    "\n",
    "> This data set consists of 636 column feature that shows detila about each student \n",
    "and 485,490 students data included these data includes many thing such as [age, grade, student ID, nationality, motnher and father education and job status, language used in their home, details about their level and wealth]\n",
    "some of the variables are numeric such as the age, weight. but most of the data are categorical such as the job status, cpuntries\n",
    "\n",
    "\n",
    "### What is/are the main feature(s) of interest in your dataset?\n",
    "\n",
    "> I'm most interested in figuring out who are the top student's countries. what is the common feature for these students is is the number of hours they study.does perfrormance is based on gender, location, or student attitudes?\n",
    "\n",
    "\n",
    "### What features in the dataset do you think will help support your investigation into your feature(s) of interest?\n",
    "\n",
    "> the most important fields based on these data is grades per each student for math, scinece and read which will determine the students level. Along with other categorical indication for the student such as geneder, country of origin and the grade he is in. "
   ]
  },
  {
   "cell_type": "code",
   "execution_count": null,
   "metadata": {},
   "outputs": [],
   "source": [
    "#df_copy.iloc[::10]"
   ]
  },
  {
   "cell_type": "code",
   "execution_count": null,
   "metadata": {
    "scrolled": false
   },
   "outputs": [],
   "source": [
    "# now it's important to check the correlation between the columns as we have too much details and we need to start anlysing \n",
    "#plt.figure(figsize=(20,20))\n",
    "#sns.heatmap(df_copy.corr(), annot=True)"
   ]
  },
  {
   "cell_type": "markdown",
   "metadata": {},
   "source": [
    "## Univariate Exploration\n",
    "\n",
    "Now In this section, we are going to start investigation per each variable individually to check its details. you see unusual points or outliers, take a deeper look to clean things up\n",
    "and prepare yourself to look at relationships between variables.\n",
    "### parameter 1: Students Countries"
   ]
  },
  {
   "cell_type": "code",
   "execution_count": null,
   "metadata": {},
   "outputs": [],
   "source": [
    "#number of students per each countries\n",
    "df_copy.countrycode.value_counts()"
   ]
  },
  {
   "cell_type": "code",
   "execution_count": null,
   "metadata": {
    "scrolled": false
   },
   "outputs": [],
   "source": [
    "#list of all countires\n",
    "base_color = sns.color_palette()[0] # To give the same colors to the bars\n",
    "year= df_copy.countrycode.value_counts().index\n",
    "fig_dims = (10,20)\n",
    "fig = plt.subplots(figsize=fig_dims)\n",
    "sns.countplot(y='countrycode',data = df_copy , color=base_color,order=year)"
   ]
  },
  {
   "cell_type": "code",
   "execution_count": null,
   "metadata": {
    "scrolled": true
   },
   "outputs": [],
   "source": [
    "#top 10 Count\n",
    "df_copy.countrycode.value_counts().index[:10]"
   ]
  },
  {
   "cell_type": "code",
   "execution_count": null,
   "metadata": {},
   "outputs": [],
   "source": [
    "#represent counts in boxplot \n",
    "plt.figure(figsize=(20,5))\n",
    "sns.boxplot(df['countrycode'].value_counts())\n",
    "sns.swarmplot(df['countrycode'].value_counts(), color='crimson')\n",
    "plt.title('Student\\'s country boxplot', size=30);"
   ]
  },
  {
   "cell_type": "code",
   "execution_count": null,
   "metadata": {},
   "outputs": [],
   "source": [
    "df['countrycode'].describe()"
   ]
  },
  {
   "cell_type": "markdown",
   "metadata": {},
   "source": [
    "### Conclusion for Students' countries\n",
    "**Based on the student's country the top 10 countries are**\n",
    "> ('Mexico', 'Italy', 'Spain', 'Canada', 'Brazil', 'Australia','United Kingdom', 'United Arab Emirates', 'Switzerland', 'Qatar') \n",
    "\n",
    "Most of the mean for the most of the countries is **5000**. there is many outliers specially for the top countries such as mexico that gets **33,806** and italy with **31,073**. \n",
    "\n",
    "=========\n",
    "### parameter 2: Start leaning age"
   ]
  },
  {
   "cell_type": "code",
   "execution_count": null,
   "metadata": {
    "scrolled": false
   },
   "outputs": [],
   "source": [
    "df.ST06Q01.hist()"
   ]
  },
  {
   "cell_type": "code",
   "execution_count": null,
   "metadata": {},
   "outputs": [],
   "source": [
    "df.ST06Q01.describe()"
   ]
  },
  {
   "cell_type": "markdown",
   "metadata": {},
   "source": [
    "### Conclusion for start learn age\n",
    "based on this most students started to learn on age 6, there is outliers which are small number of students who started to learn late on age of 16\n",
    "\n",
    "=========\n",
    "### parameter 3: Student's age"
   ]
  },
  {
   "cell_type": "code",
   "execution_count": null,
   "metadata": {
    "scrolled": true
   },
   "outputs": [],
   "source": [
    "sns.distplot(df_copy['age']);"
   ]
  },
  {
   "cell_type": "code",
   "execution_count": null,
   "metadata": {},
   "outputs": [],
   "source": [
    "age= df_copy.age.value_counts().index\n",
    "fig_dims = (8,8)\n",
    "fig = plt.subplots(figsize=fig_dims)\n",
    "sns.countplot(y='age',data = df_copy , color=base_color,order=age)"
   ]
  },
  {
   "cell_type": "code",
   "execution_count": null,
   "metadata": {},
   "outputs": [],
   "source": [
    "birthyear= df_copy.birth_month.value_counts().index\n",
    "fig_dims = (8,8)\n",
    "fig = plt.subplots(figsize=fig_dims)\n",
    "sns.countplot(y='birth_month',data = df_copy , color='crimson',order=birthyear)"
   ]
  },
  {
   "cell_type": "code",
   "execution_count": null,
   "metadata": {},
   "outputs": [],
   "source": [
    "print (age.min(), ' and maximum of', age.max())\n",
    "print ('number of students per each age:\\n', df_copy.age.value_counts())\n",
    "print('\\n',df['age'].describe())"
   ]
  },
  {
   "cell_type": "markdown",
   "metadata": {},
   "source": [
    "### Conclusion for age\n",
    "there is no huge age gab between students as min age is 15.17  and maximum of 16.33\n",
    "Most students are between 15.5 and 16 \n",
    "mean = 15.784283\n",
    "\n",
    "=========\n",
    "### parameter 4: Gender"
   ]
  },
  {
   "cell_type": "code",
   "execution_count": null,
   "metadata": {
    "scrolled": true
   },
   "outputs": [],
   "source": [
    "gender= df_copy.gender.value_counts().index\n",
    "fig_dims = (4,4)\n",
    "fig, (ax1,ax2) = plt.subplots(1,2, figsize=(12,4))  # 1 row, 2 columns\n",
    "sns.countplot(x='gender',data = df_copy , color=base_color,order=gender,ax=ax2)\n",
    "plt.title('STUDENTS GENDER');\n",
    "ax1.pie(df_copy['gender'].value_counts(), labels=df_copy['gender'].value_counts().index,startangle=90,counterclock=False)\n",
    "print('Male Students: ',df_copy['gender'].value_counts()['Male'],' which is: {:.4f}%'.format(df_copy['gender'].value_counts()['Male']/df_copy.shape[0]))\n",
    "print('Female Students: ',df_copy['gender'].value_counts()['Female'],' which is:  {:.4f}%'.format(df_copy['gender'].value_counts()['Female']/df_copy.shape[0]))\n"
   ]
  },
  {
   "cell_type": "markdown",
   "metadata": {},
   "source": [
    "### Conclusion for gender\n",
    "Seems to be not biased as the count of female and male are so similar almost divided in half Most \n",
    "Male Students:  239809  which is: 0.4950%\n",
    "Female Students:  244693  which is:  0.5050%\n",
    "\n",
    "\n",
    "=========\n",
    "### parameter 5: students score in science, math and reading"
   ]
  },
  {
   "cell_type": "code",
   "execution_count": null,
   "metadata": {},
   "outputs": [],
   "source": [
    "#sns.boxplot(data=df_copy, x='PV3MATH', y='PV4MATH', color=base_color)\n",
    "#}plt.xticks(rotation=15);\n",
    "#fig, ax = plt.subplots(nrows=5, figsize = [10,8])\n",
    "fig, ax= plt.subplots(nrows=5,ncols=3,figsize=[20,12])\n",
    "\n",
    "mathvariables = ['PV1MATH', 'PV2MATH','PV3MATH', 'PV4MATH', 'PV5MATH']      \n",
    "readvariables = ['PV1READ','PV2READ','PV3READ','PV4READ','PV5READ']\n",
    "scievariables = ['PV1SCIE','PV2SCIE','PV3SCIE','PV4SCIE','PV5SCIE']\n",
    "i=0 \n",
    "for var in mathvariables:\n",
    "    bins = np.arange(min(df_copy[var]), max(df_copy[var])+5, 5)\n",
    "    ax[i,0].hist(data = df_copy, x = var, bins = bins)\n",
    "    ax[i,0].set_xlabel('{} (mm)'.format(var))\n",
    "    i+=1\n",
    "        \n",
    "r=0\n",
    "for var in readvariables:\n",
    "    bins = np.arange(min(df_copy[var]), max(df_copy[var])+5, 5)\n",
    "    ax[r,1].hist(data = df_copy, x = var, bins = bins, color='crimson')\n",
    "    ax[r,1].set_xlabel('{} (mm)'.format(var))\n",
    "    r+=1\n",
    "s=0   \n",
    "for var in scievariables:\n",
    "    bins = np.arange(min(df_copy[var]), max(df_copy[var])+5, 5)\n",
    "    ax[s,2].hist(data = df_copy, x = var, bins = bins, color='green')\n",
    "    ax[s,2].set_xlabel('{} (mm)'.format(var))\n",
    "    s+=1\n",
    "plt.show()\n"
   ]
  },
  {
   "cell_type": "code",
   "execution_count": null,
   "metadata": {},
   "outputs": [],
   "source": [
    "bins = np.arange(0, df_copy['PV3MATH'].max()+5, 5)\n",
    "plt.hist(data = df_copy, x = 'PV3MATH', bins = bins);"
   ]
  },
  {
   "cell_type": "code",
   "execution_count": null,
   "metadata": {},
   "outputs": [],
   "source": [
    "print(df_copy['PV1READ'].describe())\n",
    "print(df_copy['PV2READ'].describe())      \n",
    "print(df_copy['PV3READ'].describe())\n",
    "print(df_copy['PV4READ'].describe())\n",
    "print(df_copy['PV5READ'].describe())\n",
    "print(df_copy['PV1SCIE'].describe())      \n",
    "print(df_copy['PV2SCIE'].describe())\n",
    "print(df_copy['PV3SCIE'].describe())\n",
    "print(df_copy['PV4SCIE'].describe())\n",
    "print(df_copy['PV5SCIE'].describe())"
   ]
  },
  {
   "cell_type": "code",
   "execution_count": null,
   "metadata": {
    "scrolled": false
   },
   "outputs": [],
   "source": [
    "Reading = df_copy.PV1READ.value_counts()\n",
    "df_copy['average_read'] = df[['PV1READ', 'PV2READ','PV3READ','PV4READ','PV5READ']].mean(axis=1)\n",
    "df_copy['average_science'] = df[['PV1SCIE', 'PV2SCIE','PV3SCIE','PV4SCIE','PV5SCIE']].mean(axis=1)\n",
    "df_copy['average_math'] = df[['PV1MATH', 'PV2MATH','PV3MATH','PV4MATH','PV5MATH']].mean(axis=1)\n",
    "df_copy['total_avg_score'] = df[['average_math', 'average_science','average_read']].mean(axis=1)\n",
    "\n",
    "df_copy.head()"
   ]
  },
  {
   "cell_type": "code",
   "execution_count": null,
   "metadata": {},
   "outputs": [],
   "source": [
    "fig, ax= plt.subplots(nrows=3,figsize=[20,12])\n",
    "\n",
    "variables = ['average_read','average_science','average_math']\n",
    "i=0 \n",
    "for var in variables:\n",
    "    bins = np.arange(min(df_copy[var]), max(df_copy[var])+5, 5)\n",
    "    ax[i].hist(data = df_copy, x = var, bins = bins)\n",
    "    ax[i].set_xlabel('{} (mm)'.format(var))\n",
    "    i+=1\n",
    "    print(\"\\033[1m\" + var, ' details is \\n' + \"\\033[0m\",df_copy[var].describe())\n",
    "\n",
    "plt.show()\n"
   ]
  },
  {
   "cell_type": "markdown",
   "metadata": {},
   "source": [
    "### conclusion scores\n",
    "the scores seems balanced and the distribution takes the bill shape. \n",
    "scores for read, scinece and math is around 465 and 475 however seems like the math has the most outliers with top students who got 903\n"
   ]
  },
  {
   "cell_type": "markdown",
   "metadata": {},
   "source": [
    "### Discuss the distribution(s) of your variable(s) of interest. Were there any unusual points? Did you need to perform any transformations?\n",
    "\n",
    "> the scores are normally distributed, however as we have 5 levels for the scores. then I had to calculate the average for the math so we can use it directly. Also the countries seems to have outliers \n",
    "\n",
    "### Of the features you investigated, were there any unusual distributions? Did you perform any operations on the data to tidy, adjust, or change the form of the data? If so, why did you do this?\n",
    "\n",
    "> the age and gender had null values, that wasn't huge so I dropped these values to remove nulls. Also score, calculated the average score for each type [Scinece, reading and math] "
   ]
  },
  {
   "cell_type": "markdown",
   "metadata": {},
   "source": [
    "## Bivariate Exploration\n",
    "\n",
    "In this section we are going to start to check the relation between 2 vaiables in the system such as the age, gender and location with regard to the total average score"
   ]
  },
  {
   "cell_type": "code",
   "execution_count": null,
   "metadata": {},
   "outputs": [],
   "source": [
    "#list of all schools\n",
    "base_color = sns.color_palette()[0] # To give the same colors to the bars\n",
    "school_id= df_copy.school_id.value_counts().index[:10]\n",
    "fig_dims = (5,5)\n",
    "fig = plt.subplots(figsize=fig_dims)\n",
    "sns.countplot(y='school_id',data = df_copy , color=base_color,order=school_id)"
   ]
  },
  {
   "cell_type": "code",
   "execution_count": null,
   "metadata": {
    "scrolled": false
   },
   "outputs": [],
   "source": [
    "# let's compare top countries vs. gender\n",
    "year= df_copy.countrycode.value_counts().index[:10]\n",
    "fig = plt.subplots(figsize=(8,8))\n",
    "country_gender = sns.countplot(y=df.countrycode, hue=df.gender, data=df_copy,order=year)\n",
    "country_gender.set_title(\"country VS gender\")\n",
    "plt.show()"
   ]
  },
  {
   "cell_type": "code",
   "execution_count": null,
   "metadata": {
    "scrolled": true
   },
   "outputs": [],
   "source": [
    "df_75=df_copy.query('total_avg_score>=@df_copy.total_avg_score.quantile(.75)')\n",
    "df_90=df_copy.query('total_avg_score>=@df_copy.total_avg_score.quantile(.90)')\n",
    "df_95=df_copy.query('total_avg_score>=@df_copy.total_avg_score.quantile(.95)')\n",
    "df_99=df_copy.query('total_avg_score>=@df_copy.total_avg_score.quantile(.99)')\n",
    "\n",
    "percent=[75,90,95,99]\n",
    "\n",
    "fig, ax=plt.subplots(nrows=2, ncols=2, figsize=(8,5))\n",
    "\n",
    "ax=ax.flatten()\n",
    "for i in range(4):\n",
    "    plt.sca(ax[i])\n",
    "    df=eval('df_'+str(percent[i]))\n",
    "    plt.countplot(y=df.countrycode, hue=df.gender, data=df_copy,order=year)\n",
    "    pie(df['gender'].value_counts(), labels=df['gender'].value_counts().index,startangle=90,counterclock=False,autopct='%.2f')\n",
    "    plt.axis('square')\n",
    "    plt.title('TOP '+ str(percent[i])+'th PERCENTILE BY GENDER')"
   ]
  },
  {
   "cell_type": "code",
   "execution_count": null,
   "metadata": {
    "scrolled": true
   },
   "outputs": [],
   "source": [
    "fig, ax=plt.subplots(nrows=2, ncols=2, figsize=(18,10))\n",
    "ax=ax.flatten()\n",
    "for i in range(4):\n",
    "    plt.sca(ax[i])\n",
    "    df=eval('df_'+str(percent[i]))\n",
    "    sns.countplot(y=df.countrycode,color=base_color,  data=df_copy,order=df['countrycode'].value_counts().index[:10])\n",
    "    plt.title('TOP '+ str(percent[i])+'th PERCENTILE for score BY country')"
   ]
  },
  {
   "cell_type": "code",
   "execution_count": null,
   "metadata": {
    "scrolled": false
   },
   "outputs": [],
   "source": [
    "fig, ax=plt.subplots(nrows=2, ncols=2, figsize=(18,10))\n",
    "\n",
    "ax=ax.flatten()\n",
    "for i in range(4):\n",
    "    plt.sca(ax[i])\n",
    "    df=eval('df_'+str(percent[i]))\n",
    "    sns.countplot(y=df.school_id,color=base_color,  data=df_copy,order=df['school_id'].value_counts().index[:10])\n",
    "    plt.title('TOP '+ str(percent[i])+'th PERCENTILE for score BY school')"
   ]
  },
  {
   "cell_type": "code",
   "execution_count": null,
   "metadata": {
    "scrolled": true
   },
   "outputs": [],
   "source": [
    "sns.boxplot(data=df_copy,order=df['school_id'].value_counts().index[:10], x='school_id', y='total_avg_score', color=base_color)\n",
    "plt.xticks(rotation=15);"
   ]
  },
  {
   "cell_type": "code",
   "execution_count": null,
   "metadata": {},
   "outputs": [],
   "source": [
    "School vs country \n",
    "schools = [48,18,66,150,130,2,71,53,114,59]\n"
   ]
  },
  {
   "cell_type": "markdown",
   "metadata": {},
   "source": [
    "### Conclusion\n",
    "Order of the top counteries changed based on the percentile level changed when the level increases the italy goes down in the order instead of being the first country. Same occurs for the ages "
   ]
  },
  {
   "cell_type": "markdown",
   "metadata": {},
   "source": [
    "### Talk about some of the relationships you observed in this part of the investigation. How did the feature(s) of interest vary with other features in the dataset?\n",
    "\n",
    "> the top countires changes based on the percential level we are using \n",
    "\n",
    "### Did you observe any interesting relationships between the other features (not the main feature(s) of interest)?\n",
    "\n",
    "> Your answer here!"
   ]
  },
  {
   "cell_type": "markdown",
   "metadata": {},
   "source": [
    "## Multivariate Exploration\n",
    "\n",
    "> Create plots of three or more variables to investigate your data even\n",
    "further. Make sure that your investigations are justified, and follow from\n",
    "your work in the previous sections."
   ]
  },
  {
   "cell_type": "code",
   "execution_count": null,
   "metadata": {},
   "outputs": [],
   "source": [
    "g = sns.FacetGrid(data = df_copy, hue = 'gender', hue_order=['male', 'Female'], size = 5, aspect = 1.5)\n",
    "g.map(sns.regplot, 'gender', 'total_avg_score', x_jitter = 0.04, fit_reg = False)\n",
    "g.add_legend()"
   ]
  },
  {
   "cell_type": "markdown",
   "metadata": {},
   "source": [
    "### Talk about some of the relationships you observed in this part of the investigation. Were there features that strengthened each other in terms of looking at your feature(s) of interest?\n",
    "\n",
    "> Your answer here!\n",
    "\n",
    "### Were there any interesting or surprising interactions between features?\n",
    "\n",
    "> Your answer here!"
   ]
  },
  {
   "cell_type": "markdown",
   "metadata": {},
   "source": [
    "> At the end of your report, make sure that you export the notebook as an\n",
    "html file from the `File > Download as... > HTML` menu. Make sure you keep\n",
    "track of where the exported file goes, so you can put it in the same folder\n",
    "as this notebook for project submission. Also, make sure you remove all of\n",
    "the quote-formatted guide notes like this one before you finish your report!"
   ]
  },
  {
   "cell_type": "code",
   "execution_count": null,
   "metadata": {},
   "outputs": [],
   "source": []
  },
  {
   "cell_type": "markdown",
   "metadata": {},
   "source": [
    "print(pisa['VER_STU'].describe()) #date of creation and seems all rows has the same date\n",
    "print('==========')\n",
    "print(pisa['SENWGT_STU'].describe()) #Senate weight - sum of weight within the country is 1000\n",
    "print('==========')\n",
    "print(pisa['W_FSTUWT'].describe()) #FINAL STUDENT WEIGHT\n",
    "print('==========')\n",
    "print(pisa['WEALTH'].describe())\n",
    "print('==========')\n",
    "print(pisa['OUTHOURS'].describe()) #Out-of-School Study Time\n",
    "print('==========')\n",
    "print(pisa['OPENPS'].describe()) #Openness for Problem Solving\n",
    "print('==========')\n",
    "print(pisa['OCOD1'].describe())#\tISCO-08 Occupation code - Mother\n",
    "print('==========')\n",
    "print(pisa['OCOD2'].describe())#\tISCO-08 Occupation code - Father\n",
    "LMINS\tLearning time (minutes per week)  - <test language>\n",
    "LANGN\tLanguage at home (3-digit code)\n",
    "AGE\tAge of student\n",
    "GRADE\tGrade compared to modal grade in country\n",
    "====\n",
    "df.rename(columns={'GRADE':'grade','AGE':'age','LANGN':'home_langcode','LMINS':'learning_time',\n",
    "                   'OPENPS':'problemsolving_open',\n",
    "                   'OUTHOURS':'outschool_study','CNT':'countrycode', 'SUBNATIO':'subregion',\n",
    "                   'STRATUM','OECD':'OECD_country','NC':'national_center_code','SCHOOLID':'school_id',\n",
    "                   'ST20Q01':'birth_country','ST20Q02':'mother_birth_country','ST20Q03':'father_birth_country',\n",
    "                   'ST25Q01':'home_language',\n",
    "                   'STIDSTD':'student_id','ST01Q01':'international_grade','ST02Q01':'study_programme',\n",
    "                   'ST03Q01':'birth_month','ST03Q02':'birth_year','ST04Q01':'gender',\n",
    "                   'ST08Q01':'late_for_school','ST09Q01':'skip_day','ST115Q01':'skip_classes',\n",
    "                   'ST13Q01':'mother_highestdegree','ST15Q01':'mother_jobstatus',\n",
    "                   'ST17Q01':'father_highestdegree','ST19Q01':'Father_jobstatus',\n",
    "                   'ST27Q01':'num_mobiles','ST27Q02':'num_tvs','ST27Q03':'num_computers',\n",
    "                   'ST27Q04':'num_cars','ST27Q05':'num_rooms','ST28Q01':'num_books',\n",
    "                   'EC05Q01': 'firstlang','EC06Q01': 'start_learn_at',\n",
    "                   'EC07Q01':'mother_language','EC07Q02':'father_language',\n",
    "                   'EC07Q03':'sibling_language','EC07Q04':'bf_language',\n",
    "                   'EC07Q05':'Schoolmates_language','OCOD1':'mother_occupation',\n",
    "                   'OCOD2':'father_occupation','W_FSTUWT':'final_weight','SENWGT_STU':'countryweight'}, inplace=True)\n",
    "=====\n",
    "\n",
    "CNT\tCountry code 3-character\n",
    "SUBNATIO\tAdjudicated sub-region code 7-digit code (3-digit country code + region ID + stratum ID)\n",
    "STRATUM\tStratum ID 7-character (cnt + region ID + original stratum ID)\n",
    "OECD\tOECD country\n",
    "NC\tNational Centre 6-digit Code\n",
    "SCHOOLID\tSchool ID 7-digit (region ID + stratum ID + 3-digit school ID)\n",
    "STIDSTD\tStudent ID\n",
    "ST01Q01\tInternational Grade\n",
    "ST02Q01\tNational Study Programme\n",
    "ST03Q01\tBirth - Month\n",
    "ST03Q02\tBirth -Year\n",
    "ST04Q01\tGender\n",
    "ST08Q01\tTruancy - Late for School\n",
    "ST09Q01\tTruancy - Skip whole school day\n",
    "ST115Q01\tTruancy - Skip classes within school day\n",
    "\n",
    "ST13Q01\tMother<Highest Schooling>\n",
    "ST15Q01\tMother Current Job Status\n",
    "ST17Q01\tFather<Highest Schooling>\n",
    "ST19Q01\tFather Current Job Status\n",
    "\n",
    "ST20Q01\tCountry of Birth International - Self\n",
    "ST20Q02\tCountry of Birth International - Mother\n",
    "ST20Q03\tCountry of Birth International - Father\n",
    "ST25Q01\tInternational Language at Home\n",
    "\n",
    "ST27Q01\tHow many - cellular phones\n",
    "ST27Q02\tHow many - televisions\n",
    "ST27Q03\tHow many - computers\n",
    "ST27Q04\tHow many - cars\n",
    "ST27Q05\tHow many - rooms bath or shower\n",
    "ST28Q01\tHow many books at home\n",
    "\n",
    "EC05Q01\tFirst language learned\n",
    "EC06Q01\tAge started learning <test language>\n",
    "EC07Q01\tLanguage spoken - Mother\n",
    "EC07Q02\tLanguage spoken - Father\n",
    "EC07Q03\tLanguage spoken - Siblings\n",
    "EC07Q04\tLanguage spoken - Best friend\n",
    "EC07Q05\tLanguage spoken - Schoolmates\n"
   ]
  },
  {
   "cell_type": "code",
   "execution_count": null,
   "metadata": {},
   "outputs": [],
   "source": [
    "At Home - Mother\n",
    "At Home - Father\n",
    "mother_highestdegree\n",
    "mother_jobstatus \n",
    "mother_occupation\n",
    "\n",
    "father_highestdegree\n",
    "Father_jobstatus\n",
    "father_occupation\n",
    "\n",
    "study_programme  \n",
    "late_for_school   \n",
    "skip_day      \n",
    "skip_classes   \n",
    "num_mobiles  \n",
    "num_tvs \n",
    "num_computers \n",
    "num_cars      \n",
    "num_rooms  \n",
    "num_books  \n",
    "\n"
   ]
  },
  {
   "cell_type": "code",
   "execution_count": null,
   "metadata": {},
   "outputs": [],
   "source": [
    "# now it's important to check the correlation between the columns as we have too much details and we need to start anlysing \n",
    "#lt.figure(figsize=(20,20))\n",
    "#sns.heatmap(pisa.corr(), annot=True)"
   ]
  },
  {
   "cell_type": "code",
   "execution_count": null,
   "metadata": {
    "scrolled": true
   },
   "outputs": [],
   "source": [
    "#international_grade= df_copy.international_grade.value_counts().index\n",
    "#print(international_grade)\n",
    "#fig_dims = (4,4)\n",
    "#fig = plt.subplots(figsize=fig_dims)\n",
    "#print('International Grade #: ',international_grade, 'percentage is',df_copy['international_grade'].value_counts(),' which is: {:.4f}%'.format(df_copy['international_grade'].value_counts()[var]/df_copy['international_grade'].value_counts()))\n",
    "#print('Female Students: ',df_copy['gender'].value_counts()['Female'],' which is:  {:.4f}%'.format(df_copy['gender'].value_counts()['Female']/df_copy.shape[0]))\n",
    "#sns.countplot(x='international_grade',data = df_copy , color=base_color,order=international_grade)"
   ]
  },
  {
   "cell_type": "code",
   "execution_count": null,
   "metadata": {},
   "outputs": [],
   "source": [
    "df = pisa[['STIDSTD','GRADE','AGE','ST06Q01','LANGN','LMINS','OPENPS','OUTHOURS',\n",
    "          'CNT', 'SUBNATIO', 'STRATUM','OECD','NC','SCHOOLID',\n",
    "          'ST20Q01','ST20Q02','ST20Q03','ST25Q01',\n",
    "          'ST01Q01','ST02Q01','ST03Q01','ST03Q02',\n",
    "          'ST04Q01','ST08Q01','ST09Q01','ST115Q01','ST13Q01',\n",
    "          'ST15Q01','ST17Q01','ST19Q01',\n",
    "          'ST27Q01','ST27Q02','ST27Q03','ST27Q04','ST27Q05','ST28Q01',\n",
    "          'EC05Q01','EC06Q01','EC07Q01','EC07Q02','EC07Q03','EC07Q04','EC07Q05',\n",
    "          'OCOD1','OCOD2','W_FSTUWT','SENWGT_STU']].copy()\n",
    "\n",
    "df.rename(columns={'GRADE':'grade','AGE':'age','LANGN':'home_langcode','LMINS':'learning_time',\n",
    "                   'OPENPS':'problemsolving_open','ST06Q01':'age2',\n",
    "                   'OUTHOURS':'outschool_study','CNT':'countrycode', 'SUBNATIO':'subregion',\n",
    "                   'OECD':'OECD_country','NC':'national_center_code','SCHOOLID':'school_id',\n",
    "                   'ST20Q01':'birth_country','ST20Q02':'mother_birth_country','ST20Q03':'father_birth_country',\n",
    "                   'ST25Q01':'home_language',\n",
    "                   'STIDSTD':'student_id','ST01Q01':'international_grade','ST02Q01':'study_programme',\n",
    "                   'ST03Q01':'birth_month','ST03Q02':'birth_year','ST04Q01':'gender',\n",
    "                   'ST08Q01':'late_for_school','ST09Q01':'skip_day','ST115Q01':'skip_classes',\n",
    "                   'ST13Q01':'mother_highestdegree','ST15Q01':'mother_jobstatus',\n",
    "                   'ST17Q01':'father_highestdegree','ST19Q01':'Father_jobstatus',\n",
    "                   'ST27Q01':'num_mobiles','ST27Q02':'num_tvs','ST27Q03':'num_computers',\n",
    "                   'ST27Q04':'num_cars','ST27Q05':'num_rooms','ST28Q01':'num_books',\n",
    "                   'EC05Q01': 'firstlang','EC06Q01': 'start_learn_at',\n",
    "                   'EC07Q01':'mother_language','EC07Q02':'father_language',\n",
    "                   'EC07Q03':'sibling_language','EC07Q04':'bf_language',\n",
    "                   'EC07Q05':'Schoolmates_language','OCOD1':'mother_occupation',\n",
    "                   'OCOD2':'father_occupation','W_FSTUWT':'final_weight','SENWGT_STU':'countryweight'}, inplace=True)"
   ]
  }
 ],
 "metadata": {
  "kernelspec": {
   "display_name": "Python 3",
   "language": "python",
   "name": "python3"
  },
  "language_info": {
   "codemirror_mode": {
    "name": "ipython",
    "version": 3
   },
   "file_extension": ".py",
   "mimetype": "text/x-python",
   "name": "python",
   "nbconvert_exporter": "python",
   "pygments_lexer": "ipython3",
   "version": "3.8.6"
  }
 },
 "nbformat": 4,
 "nbformat_minor": 2
}
